{
 "cells": [
  {
   "cell_type": "code",
   "execution_count": 1,
   "metadata": {
    "scrolled": true
   },
   "outputs": [
    {
     "name": "stderr",
     "output_type": "stream",
     "text": [
      "Using TensorFlow backend.\n"
     ]
    }
   ],
   "source": [
    "import numpy as np\n",
    "import csv\n",
    "import pandas as pd\n",
    "import re\n",
    "import collections\n",
    "import matplotlib.pyplot as plt\n",
    "import string\n",
    "\n",
    "from nltk.corpus import stopwords\n",
    "from nltk.tokenize import word_tokenize\n",
    "from keras.utils.np_utils import to_categorical\n",
    "from keras.preprocessing.text import Tokenizer\n",
    "from sklearn.preprocessing import LabelEncoder\n",
    "\n",
    "from keras import models\n",
    "from keras import layers\n",
    "from keras import regularizers"
   ]
  },
  {
   "cell_type": "markdown",
   "metadata": {},
   "source": [
    "## Get Training and Test Data"
   ]
  },
  {
   "cell_type": "code",
   "execution_count": 3,
   "metadata": {},
   "outputs": [
    {
     "name": "stdout",
     "output_type": "stream",
     "text": [
      "   PhraseId  SentenceId                                             Phrase  \\\n",
      "0         1           1  A series of escapades demonstrating the adage ...   \n",
      "1         2           1  A series of escapades demonstrating the adage ...   \n",
      "2         3           1                                           A series   \n",
      "3         4           1                                                  A   \n",
      "4         5           1                                             series   \n",
      "\n",
      "   Sentiment  \n",
      "0          1  \n",
      "1          2  \n",
      "2          2  \n",
      "3          2  \n",
      "4          2  \n",
      "\n",
      "Shape of train data:  (156060, 4)\n",
      "\n",
      "Column Names: ['PhraseId' 'SentenceId' 'Phrase' 'Sentiment']\n"
     ]
    }
   ],
   "source": [
    "traindf=pd.read_csv('train.tsv', sep='\\t')\n",
    "print(traindf.head(5))\n",
    "print(\"\\nShape of train data: \",traindf.shape) \n",
    "print(\"\\nColumn Names:\" ,traindf.columns.values) # PhraseId, SentenceId, Phrase, Sentiment"
   ]
  },
  {
   "cell_type": "code",
   "execution_count": 4,
   "metadata": {
    "scrolled": false
   },
   "outputs": [
    {
     "name": "stdout",
     "output_type": "stream",
     "text": [
      "   PhraseId  SentenceId                                             Phrase\n",
      "0    156061        8545  An intermittently pleasing but mostly routine ...\n",
      "1    156062        8545  An intermittently pleasing but mostly routine ...\n",
      "2    156063        8545                                                 An\n",
      "3    156064        8545  intermittently pleasing but mostly routine effort\n",
      "4    156065        8545         intermittently pleasing but mostly routine\n",
      "\n",
      "Shape of test data:  (66292, 3)\n",
      "\n",
      "Column Names: ['PhraseId' 'SentenceId' 'Phrase']\n"
     ]
    }
   ],
   "source": [
    "testdf=pd.read_csv('test.tsv', sep='\\t')\n",
    "print(testdf.head(5))\n",
    "print(\"\\nShape of test data: \",testdf.shape) \n",
    "print(\"\\nColumn Names:\", testdf.columns.values) "
   ]
  },
  {
   "cell_type": "markdown",
   "metadata": {},
   "source": [
    "## Preprocess Text Data"
   ]
  },
  {
   "cell_type": "code",
   "execution_count": 5,
   "metadata": {},
   "outputs": [],
   "source": [
    "def remove_stopwords(input_text):\n",
    "    \n",
    "        words = input_text.split() \n",
    "        #print(words)\n",
    "        \n",
    "        # convert to lower case\n",
    "        low_words = [line.lower() for line in words]\n",
    "\n",
    "        # remove punctuation from each word\n",
    "        table = str.maketrans('', '', string.punctuation)\n",
    "        stripped = [line.translate(table) for line in low_words]\n",
    "    \n",
    "        # remove remaining tokens that are not alphabetic\n",
    "        words= [line for line in stripped if line.isalpha()]\n",
    "        \n",
    "        stopwords_list = stopwords.words('english')\n",
    "        # Some words which might indicate a certain sentiment are kept via a whitelist\n",
    "        whitelist = [\"n't\", \"not\", \"no\"]\n",
    "        clean_words = [word for word in words if (word not in stopwords_list or word in whitelist) and len(word) > 1] \n",
    "        return \" \".join(clean_words) \n",
    "    \n",
    "def remove_mentions(input_text):\n",
    "        return re.sub(r'@\\w+', '', input_text)\n",
    "    "
   ]
  },
  {
   "cell_type": "code",
   "execution_count": 6,
   "metadata": {},
   "outputs": [
    {
     "data": {
      "text/plain": [
       "0    series escapades demonstrating adage good goos...\n",
       "1      series escapades demonstrating adage good goose\n",
       "2                                               series\n",
       "3                                                     \n",
       "4                                               series\n",
       "Name: Phrase, dtype: object"
      ]
     },
     "execution_count": 6,
     "metadata": {},
     "output_type": "execute_result"
    }
   ],
   "source": [
    "traindf['Phrase'] = traindf['Phrase'].apply(remove_stopwords).apply(remove_mentions)\n",
    "traindf['Phrase'].head()"
   ]
  },
  {
   "cell_type": "code",
   "execution_count": 7,
   "metadata": {
    "scrolled": true
   },
   "outputs": [
    {
     "data": {
      "text/plain": [
       "0    intermittently pleasing mostly routine effort\n",
       "1    intermittently pleasing mostly routine effort\n",
       "2                                                 \n",
       "3    intermittently pleasing mostly routine effort\n",
       "4           intermittently pleasing mostly routine\n",
       "Name: Phrase, dtype: object"
      ]
     },
     "execution_count": 7,
     "metadata": {},
     "output_type": "execute_result"
    }
   ],
   "source": [
    "testdf['Phrase'] = testdf['Phrase'].apply(remove_stopwords).apply(remove_mentions)\n",
    "testdf['Phrase'].head()"
   ]
  },
  {
   "cell_type": "code",
   "execution_count": 8,
   "metadata": {},
   "outputs": [
    {
     "name": "stdout",
     "output_type": "stream",
     "text": [
      "Fitted tokenizer on 156060 documents\n",
      "10000 words in dictionary\n"
     ]
    }
   ],
   "source": [
    "tk = Tokenizer(num_words=10000, split=\" \")\n",
    "tk.fit_on_texts(traindf['Phrase'])\n",
    "\n",
    "print('Fitted tokenizer on {} documents'.format(tk.document_count))\n",
    "print('{} words in dictionary'.format(tk.num_words))"
   ]
  },
  {
   "cell_type": "code",
   "execution_count": 9,
   "metadata": {
    "scrolled": true
   },
   "outputs": [
    {
     "name": "stdout",
     "output_type": "stream",
     "text": [
      "\"series escapades demonstrating adage good goose also good gander occasionally amuses none amounts much story\" is converted into [202, 5720, 6303, 10, 3358, 86, 10, 502, 463, 1874, 12, 7]\n"
     ]
    }
   ],
   "source": [
    "train_seq = tk.texts_to_sequences(traindf['Phrase'])\n",
    "test_seq = tk.texts_to_sequences(testdf['Phrase'])\n",
    "\n",
    "print('\"{}\" is converted into {}'.format(traindf['Phrase'][0], train_seq[0]))"
   ]
  },
  {
   "cell_type": "code",
   "execution_count": 10,
   "metadata": {},
   "outputs": [
    {
     "name": "stdout",
     "output_type": "stream",
     "text": [
      "\"[202, 5720, 6303, 10, 3358, 86, 10, 502, 463, 1874, 12, 7]\" is converted into [0. 0. 0. ... 0. 0. 0.]\n",
      "For this example we have 11.0 features with a value of 1.\n"
     ]
    }
   ],
   "source": [
    "def one_hot_seq(seqs, nb_features = 10000):\n",
    "    ohs = np.zeros((len(seqs), nb_features))\n",
    "    for i, s in enumerate(seqs):\n",
    "        ohs[i, s] = 1.\n",
    "    return ohs\n",
    "\n",
    "X_train = one_hot_seq(train_seq)\n",
    "X_test = one_hot_seq(test_seq)\n",
    "\n",
    "print('\"{}\" is converted into {}'.format(train_seq[0], X_train[0]))"
   ]
  },
  {
   "cell_type": "code",
   "execution_count": 11,
   "metadata": {},
   "outputs": [
    {
     "name": "stdout",
     "output_type": "stream",
     "text": [
      "\"1\" is converted into [0. 1. 0. 0. 0.]\n"
     ]
    }
   ],
   "source": [
    "y_train = to_categorical(traindf['Sentiment'])\n",
    "\n",
    "print('\"{}\" is converted into {}'.format(traindf['Sentiment'][0], y_train[0]))"
   ]
  },
  {
   "cell_type": "code",
   "execution_count": 12,
   "metadata": {
    "scrolled": true
   },
   "outputs": [
    {
     "name": "stdout",
     "output_type": "stream",
     "text": [
      "Shape of X_train: (156060, 10000)\n",
      "Shape of y_train: (156060, 5)\n",
      "Shape of X_test: (66292, 10000)\n"
     ]
    }
   ],
   "source": [
    "print('Shape of X_train:',X_train.shape)\n",
    "print('Shape of y_train:',y_train.shape)\n",
    "print('Shape of X_test:',X_test.shape)"
   ]
  },
  {
   "cell_type": "markdown",
   "metadata": {},
   "source": [
    "## Neural Network"
   ]
  },
  {
   "cell_type": "code",
   "execution_count": 31,
   "metadata": {},
   "outputs": [
    {
     "name": "stdout",
     "output_type": "stream",
     "text": [
      "_________________________________________________________________\n",
      "Layer (type)                 Output Shape              Param #   \n",
      "=================================================================\n",
      "dense_4 (Dense)              (None, 64)                640064    \n",
      "_________________________________________________________________\n",
      "dropout_1 (Dropout)          (None, 64)                0         \n",
      "_________________________________________________________________\n",
      "dense_5 (Dense)              (None, 64)                4160      \n",
      "_________________________________________________________________\n",
      "dropout_2 (Dropout)          (None, 64)                0         \n",
      "_________________________________________________________________\n",
      "dense_6 (Dense)              (None, 5)                 325       \n",
      "=================================================================\n",
      "Total params: 644,549\n",
      "Trainable params: 644,549\n",
      "Non-trainable params: 0\n",
      "_________________________________________________________________\n"
     ]
    }
   ],
   "source": [
    "input_shape=X_train[0].shape\n",
    "model = models.Sequential()\n",
    "model.add(layers.Dense(64, activation='relu',kernel_regularizer=regularizers.l2(0.001), input_shape=input_shape))\n",
    "model.add(layers.Dropout(0.5))\n",
    "model.add(layers.Dense(64, activation='relu',kernel_regularizer=regularizers.l2(0.001),))\n",
    "model.add(layers.Dropout(0.5))\n",
    "model.add(layers.Dense(5, activation='softmax'))\n",
    "model.summary()"
   ]
  },
  {
   "cell_type": "code",
   "execution_count": 32,
   "metadata": {},
   "outputs": [],
   "source": [
    "model.compile(optimizer='rmsprop', loss='binary_crossentropy', metrics=['accuracy'])"
   ]
  },
  {
   "cell_type": "code",
   "execution_count": 33,
   "metadata": {
    "scrolled": true
   },
   "outputs": [
    {
     "name": "stdout",
     "output_type": "stream",
     "text": [
      "Train on 124848 samples, validate on 31212 samples\n",
      "Epoch 1/15\n",
      "124848/124848 [==============================] - 133s 1ms/step - loss: 0.4378 - acc: 0.8231 - val_loss: 0.4134 - val_acc: 0.8296\n",
      "Epoch 2/15\n",
      "124848/124848 [==============================] - 92s 734us/step - loss: 0.3997 - acc: 0.8386 - val_loss: 0.4033 - val_acc: 0.8330\n",
      "Epoch 3/15\n",
      "124848/124848 [==============================] - 68s 545us/step - loss: 0.3904 - acc: 0.8411 - val_loss: 0.3973 - val_acc: 0.8335\n",
      "Epoch 4/15\n",
      "124848/124848 [==============================] - 122s 979us/step - loss: 0.3843 - acc: 0.8420 - val_loss: 0.3917 - val_acc: 0.8361\n",
      "Epoch 5/15\n",
      "124848/124848 [==============================] - 78s 624us/step - loss: 0.3797 - acc: 0.8432 - val_loss: 0.3893 - val_acc: 0.8352\n",
      "Epoch 6/15\n",
      "124848/124848 [==============================] - 120s 958us/step - loss: 0.3761 - acc: 0.8440 - val_loss: 0.3867 - val_acc: 0.8357\n",
      "Epoch 7/15\n",
      "124848/124848 [==============================] - 119s 956us/step - loss: 0.3735 - acc: 0.8443 - val_loss: 0.3842 - val_acc: 0.8371\n",
      "Epoch 8/15\n",
      "124848/124848 [==============================] - 98s 785us/step - loss: 0.3707 - acc: 0.8450 - val_loss: 0.3837 - val_acc: 0.8370\n",
      "Epoch 9/15\n",
      "124848/124848 [==============================] - 77s 617us/step - loss: 0.3691 - acc: 0.8451 - val_loss: 0.3824 - val_acc: 0.8367\n",
      "Epoch 10/15\n",
      "124848/124848 [==============================] - 79s 633us/step - loss: 0.3671 - acc: 0.8454 - val_loss: 0.3812 - val_acc: 0.8359\n",
      "Epoch 11/15\n",
      "124848/124848 [==============================] - 66s 526us/step - loss: 0.3655 - acc: 0.8458 - val_loss: 0.3806 - val_acc: 0.8358\n",
      "Epoch 12/15\n",
      "124848/124848 [==============================] - 85s 685us/step - loss: 0.3638 - acc: 0.8465 - val_loss: 0.3789 - val_acc: 0.8372\n",
      "Epoch 13/15\n",
      "124848/124848 [==============================] - 83s 668us/step - loss: 0.3629 - acc: 0.8463 - val_loss: 0.3783 - val_acc: 0.8366\n",
      "Epoch 14/15\n",
      "124848/124848 [==============================] - 69s 551us/step - loss: 0.3618 - acc: 0.8467 - val_loss: 0.3793 - val_acc: 0.8370\n",
      "Epoch 15/15\n",
      "124848/124848 [==============================] - 75s 599us/step - loss: 0.3608 - acc: 0.8470 - val_loss: 0.3800 - val_acc: 0.8356\n"
     ]
    }
   ],
   "source": [
    "history=model.fit(X_train, y_train, epochs=15, batch_size=512,validation_split=0.2)"
   ]
  },
  {
   "cell_type": "code",
   "execution_count": 34,
   "metadata": {},
   "outputs": [],
   "source": [
    "def eval_metric(history, metric_name):\n",
    "    metric = history.history[metric_name]\n",
    "    val_metric = history.history['val_' + metric_name]\n",
    "\n",
    "    e = range(1, 15 + 1)\n",
    "\n",
    "    plt.plot(e, metric, 'bo', label='Train ' + metric_name)\n",
    "    plt.plot(e, val_metric, 'b', label='Validation ' + metric_name)\n",
    "    plt.legend()\n",
    "    plt.show()"
   ]
  },
  {
   "cell_type": "code",
   "execution_count": 35,
   "metadata": {},
   "outputs": [
    {
     "data": {
      "image/png": "[encoded data removed]",
      "text/plain": [
       "<matplotlib.figure.Figure at 0x1fef98a53c8>"
      ]
     },
     "metadata": {
      "needs_background": "light"
     },
     "output_type": "display_data"
    }
   ],
   "source": [
    "eval_metric(history, 'loss')"
   ]
  },
  {
   "cell_type": "code",
   "execution_count": 36,
   "metadata": {
    "scrolled": true
   },
   "outputs": [
    {
     "data": {
      "image/png": "[encoded data removed]",
      "text/plain": [
       "<matplotlib.figure.Figure at 0x1fef2f4e860>"
      ]
     },
     "metadata": {
      "needs_background": "light"
     },
     "output_type": "display_data"
    }
   ],
   "source": [
    "eval_metric(history, 'acc')"
   ]
  },
  {
   "cell_type": "code",
   "execution_count": 37,
   "metadata": {},
   "outputs": [],
   "source": [
    "np.set_printoptions(threshold=np.inf)\n",
    "y_pred = model.predict_classes(X_test)"
   ]
  },
  {
   "cell_type": "code",
   "execution_count": 38,
   "metadata": {
    "scrolled": true
   },
   "outputs": [
    {
     "name": "stdout",
     "output_type": "stream",
     "text": [
      "Shape of y_pred:  (66292,)\n"
     ]
    }
   ],
   "source": [
    "print(\"Shape of y_pred: \",y_pred.shape)"
   ]
  },
  {
   "cell_type": "markdown",
   "metadata": {},
   "source": [
    "## Create Excel File"
   ]
  },
  {
   "cell_type": "code",
   "execution_count": 39,
   "metadata": {},
   "outputs": [],
   "source": [
    "i=0;\n",
    "import xlsxwriter\n",
    "\n",
    "# Create a workbook and add a worksheet.\n",
    "workbook = xlsxwriter.Workbook('submission.xlsx')\n",
    "worksheet = workbook.add_worksheet()\n",
    "\n",
    "for label in y_pred:\n",
    "    phraseid=testdf['PhraseId'][i];\n",
    "    worksheet.write(i, 1, label) \n",
    "    worksheet.write(i, 0, phraseid)\n",
    "    i=i+1;\n",
    "    \n",
    "workbook.close() "
   ]
  }
 ],
 "metadata": {
  "kernelspec": {
   "display_name": "Python 3",
   "language": "python",
   "name": "python3"
  },
  "language_info": {
   "codemirror_mode": {
    "name": "ipython",
    "version": 3
   },
   "file_extension": ".py",
   "mimetype": "text/x-python",
   "name": "python",
   "nbconvert_exporter": "python",
   "pygments_lexer": "ipython3",
   "version": "3.6.4"
  }
 },
 "nbformat": 4,
 "nbformat_minor": 2
}
